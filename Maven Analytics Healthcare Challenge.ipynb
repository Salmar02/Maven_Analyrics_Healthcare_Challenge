{
 "cells": [
  {
   "attachments": {},
   "cell_type": "markdown",
   "id": "93f04e1b",
   "metadata": {},
   "source": [
    "****"
   ]
  },
  {
   "attachments": {},
   "cell_type": "markdown",
   "id": "1a7f7084",
   "metadata": {},
   "source": [
    "- **Title:     HCAHPS Patient Survey**  \n",
    "\n",
    "\n",
    "- **Author:    Salma Ramiz**\n",
    "\n",
    "\n",
    "- **Date:      August 2023**\n"
   ]
  },
  {
   "attachments": {},
   "cell_type": "markdown",
   "id": "4b77589c",
   "metadata": {},
   "source": [
    "****"
   ]
  },
  {
   "attachments": {},
   "cell_type": "markdown",
   "id": "f015e5d5",
   "metadata": {},
   "source": [
    "![--](h.PNG)"
   ]
  },
  {
   "attachments": {},
   "cell_type": "markdown",
   "id": "a77ecbb6",
   "metadata": {},
   "source": [
    "# **<span style = \"color:#0F8CAB\"> When CARE meets CURE : empowering health, inspiring comfort. </span>**"
   ]
  },
  {
   "attachments": {},
   "cell_type": "markdown",
   "id": "599d936f",
   "metadata": {},
   "source": [
    "***"
   ]
  },
  {
   "attachments": {},
   "cell_type": "markdown",
   "id": "5375bc5c",
   "metadata": {},
   "source": [
    "## Project Presentation"
   ]
  },
  {
   "attachments": {},
   "cell_type": "markdown",
   "id": "13bad315",
   "metadata": {},
   "source": [
    "This project falls into the **Maven Healthcare Challenge** where we'll be working as Data Analysts for the American Hospital Association (AHA), a national organization that represents hospitals and their patients, and acts as a source of information on health care issues and trends.\n",
    "\n",
    "The task is to analyze the Hospital Consumer Assessment of Healthcare Providers and Systems (HCAHPS) survey results for the last 9 years. The intent of the HCAHPS initiative is to provide a standardized survey instrument for measuring patients’ perspectives on hospital care, and one of its 3 main goals is to \"create incentives for hospitals to improve their quality of care\"."
   ]
  },
  {
   "attachments": {},
   "cell_type": "markdown",
   "id": "4ac8ae5c",
   "metadata": {},
   "source": [
    "****"
   ]
  },
  {
   "attachments": {},
   "cell_type": "markdown",
   "id": "d6b4f84b",
   "metadata": {},
   "source": [
    "## Data Source"
   ]
  },
  {
   "attachments": {},
   "cell_type": "markdown",
   "id": "99420fe3",
   "metadata": {},
   "source": [
    "National & state-level results from 2013 to 2022 for the Hospital Consumer Assessment of Healthcare Providers and Systems (HCAHPS) **survey**, including hospital-level completions and response rates."
   ]
  },
  {
   "attachments": {},
   "cell_type": "markdown",
   "id": "a1e38437",
   "metadata": {},
   "source": [
    "****"
   ]
  },
  {
   "cell_type": "code",
   "execution_count": 18,
   "id": "971b418b",
   "metadata": {
    "scrolled": true
   },
   "outputs": [],
   "source": [
    "import pandas as pd"
   ]
  },
  {
   "attachments": {},
   "cell_type": "markdown",
   "id": "09c26df7",
   "metadata": {},
   "source": [
    "## Data sets:"
   ]
  },
  {
   "attachments": {},
   "cell_type": "markdown",
   "id": "82a79bc2",
   "metadata": {},
   "source": [
    "---"
   ]
  },
  {
   "attachments": {},
   "cell_type": "markdown",
   "id": "9800f12f",
   "metadata": {},
   "source": [
    "### Reports:"
   ]
  },
  {
   "cell_type": "code",
   "execution_count": 2,
   "id": "297e74d9",
   "metadata": {},
   "outputs": [
    {
     "data": {
      "text/html": [
       "<div>\n",
       "<style scoped>\n",
       "    .dataframe tbody tr th:only-of-type {\n",
       "        vertical-align: middle;\n",
       "    }\n",
       "\n",
       "    .dataframe tbody tr th {\n",
       "        vertical-align: top;\n",
       "    }\n",
       "\n",
       "    .dataframe thead th {\n",
       "        text-align: right;\n",
       "    }\n",
       "</style>\n",
       "<table border=\"1\" class=\"dataframe\">\n",
       "  <thead>\n",
       "    <tr style=\"text-align: right;\">\n",
       "      <th></th>\n",
       "      <th>Release Period</th>\n",
       "      <th>Start Date</th>\n",
       "      <th>End Date</th>\n",
       "    </tr>\n",
       "  </thead>\n",
       "  <tbody>\n",
       "    <tr>\n",
       "      <th>0</th>\n",
       "      <td>07_2015</td>\n",
       "      <td>2013-10-01</td>\n",
       "      <td>2014-09-30</td>\n",
       "    </tr>\n",
       "    <tr>\n",
       "      <th>1</th>\n",
       "      <td>07_2016</td>\n",
       "      <td>2014-10-01</td>\n",
       "      <td>2015-09-30</td>\n",
       "    </tr>\n",
       "    <tr>\n",
       "      <th>2</th>\n",
       "      <td>07_2017</td>\n",
       "      <td>2015-10-01</td>\n",
       "      <td>2016-09-30</td>\n",
       "    </tr>\n",
       "    <tr>\n",
       "      <th>3</th>\n",
       "      <td>07_2018</td>\n",
       "      <td>2016-10-01</td>\n",
       "      <td>2017-09-30</td>\n",
       "    </tr>\n",
       "    <tr>\n",
       "      <th>4</th>\n",
       "      <td>07_2019</td>\n",
       "      <td>2017-10-01</td>\n",
       "      <td>2018-09-30</td>\n",
       "    </tr>\n",
       "    <tr>\n",
       "      <th>5</th>\n",
       "      <td>07_2020</td>\n",
       "      <td>2018-10-01</td>\n",
       "      <td>2019-09-30</td>\n",
       "    </tr>\n",
       "    <tr>\n",
       "      <th>6</th>\n",
       "      <td>07_2021</td>\n",
       "      <td>2019-10-01</td>\n",
       "      <td>2020-09-30</td>\n",
       "    </tr>\n",
       "    <tr>\n",
       "      <th>7</th>\n",
       "      <td>07_2022</td>\n",
       "      <td>2020-10-01</td>\n",
       "      <td>2021-09-30</td>\n",
       "    </tr>\n",
       "    <tr>\n",
       "      <th>8</th>\n",
       "      <td>07_2023</td>\n",
       "      <td>2021-10-01</td>\n",
       "      <td>2022-09-30</td>\n",
       "    </tr>\n",
       "  </tbody>\n",
       "</table>\n",
       "</div>"
      ],
      "text/plain": [
       "  Release Period  Start Date    End Date\n",
       "0        07_2015  2013-10-01  2014-09-30\n",
       "1        07_2016  2014-10-01  2015-09-30\n",
       "2        07_2017  2015-10-01  2016-09-30\n",
       "3        07_2018  2016-10-01  2017-09-30\n",
       "4        07_2019  2017-10-01  2018-09-30\n",
       "5        07_2020  2018-10-01  2019-09-30\n",
       "6        07_2021  2019-10-01  2020-09-30\n",
       "7        07_2022  2020-10-01  2021-09-30\n",
       "8        07_2023  2021-10-01  2022-09-30"
      ]
     },
     "execution_count": 2,
     "metadata": {},
     "output_type": "execute_result"
    }
   ],
   "source": [
    "reports = pd.read_csv(\"Desktop/data_tables/reports.csv\")\n",
    "reports"
   ]
  },
  {
   "attachments": {},
   "cell_type": "markdown",
   "id": "0823dcda",
   "metadata": {},
   "source": [
    "\n",
    "**<span style = \"color:#ef233c\">   Release Period (PK):</span>** \n",
    "\n",
    "Unique identifier for each HCAHPS report and the date (month_year) in which the data was released (these reports are publicly reported four times each year, based on four consecutive quarters of patient surveys)\n",
    "\n",
    "**<span style = \"color:#ef233c\"> Start Date:</span>**  \n",
    "\n",
    "Survey results from patients discharged between the \"Start Date\" and \"End Date\" are included in each report that's released.\n",
    "\n",
    "**<span style = \"color:#ef233c\"> End Date:</span>**  \n",
    "\n",
    "Survey results from patients discharged between the \"Start Date\" and \"End Date\" are included in each report that's released.\n",
    "\n"
   ]
  },
  {
   "attachments": {},
   "cell_type": "markdown",
   "id": "4fb35d91",
   "metadata": {},
   "source": [
    "---"
   ]
  },
  {
   "attachments": {},
   "cell_type": "markdown",
   "id": "1d3f5700",
   "metadata": {},
   "source": [
    "### Measures:"
   ]
  },
  {
   "cell_type": "code",
   "execution_count": 3,
   "id": "f4568e07",
   "metadata": {},
   "outputs": [
    {
     "data": {
      "text/html": [
       "<div>\n",
       "<style scoped>\n",
       "    .dataframe tbody tr th:only-of-type {\n",
       "        vertical-align: middle;\n",
       "    }\n",
       "\n",
       "    .dataframe tbody tr th {\n",
       "        vertical-align: top;\n",
       "    }\n",
       "\n",
       "    .dataframe thead th {\n",
       "        text-align: right;\n",
       "    }\n",
       "</style>\n",
       "<table border=\"1\" class=\"dataframe\">\n",
       "  <thead>\n",
       "    <tr style=\"text-align: right;\">\n",
       "      <th></th>\n",
       "      <th>Measure ID</th>\n",
       "      <th>Measure</th>\n",
       "      <th>Type</th>\n",
       "    </tr>\n",
       "  </thead>\n",
       "  <tbody>\n",
       "    <tr>\n",
       "      <th>0</th>\n",
       "      <td>H_COMP_1</td>\n",
       "      <td>Communication with Nurses</td>\n",
       "      <td>Composite Measure</td>\n",
       "    </tr>\n",
       "    <tr>\n",
       "      <th>1</th>\n",
       "      <td>H_COMP_2</td>\n",
       "      <td>Communication with Doctors</td>\n",
       "      <td>Composite Measure</td>\n",
       "    </tr>\n",
       "    <tr>\n",
       "      <th>2</th>\n",
       "      <td>H_COMP_3</td>\n",
       "      <td>Responsiveness of Hospital Staff</td>\n",
       "      <td>Composite Measure</td>\n",
       "    </tr>\n",
       "    <tr>\n",
       "      <th>3</th>\n",
       "      <td>H_COMP_5</td>\n",
       "      <td>Communication about Medicines</td>\n",
       "      <td>Composite Measure</td>\n",
       "    </tr>\n",
       "    <tr>\n",
       "      <th>4</th>\n",
       "      <td>H_COMP_6</td>\n",
       "      <td>Discharge Information</td>\n",
       "      <td>Composite Measure</td>\n",
       "    </tr>\n",
       "    <tr>\n",
       "      <th>5</th>\n",
       "      <td>H_COMP_7</td>\n",
       "      <td>Care Transition</td>\n",
       "      <td>Composite Measure</td>\n",
       "    </tr>\n",
       "    <tr>\n",
       "      <th>6</th>\n",
       "      <td>H_CLEAN_HSP</td>\n",
       "      <td>Cleanliness of Hospital Environment</td>\n",
       "      <td>Individual Item</td>\n",
       "    </tr>\n",
       "    <tr>\n",
       "      <th>7</th>\n",
       "      <td>H_QUIET_HSP</td>\n",
       "      <td>Quietness of Hospital Environment</td>\n",
       "      <td>Individual Item</td>\n",
       "    </tr>\n",
       "    <tr>\n",
       "      <th>8</th>\n",
       "      <td>H_HSP_RATING</td>\n",
       "      <td>Overall Hospital Rating</td>\n",
       "      <td>Global Item</td>\n",
       "    </tr>\n",
       "    <tr>\n",
       "      <th>9</th>\n",
       "      <td>H_RECMND</td>\n",
       "      <td>Willingness to Recommend the Hospital</td>\n",
       "      <td>Global Item</td>\n",
       "    </tr>\n",
       "  </tbody>\n",
       "</table>\n",
       "</div>"
      ],
      "text/plain": [
       "     Measure ID                                Measure               Type\n",
       "0      H_COMP_1              Communication with Nurses  Composite Measure\n",
       "1      H_COMP_2             Communication with Doctors  Composite Measure\n",
       "2      H_COMP_3       Responsiveness of Hospital Staff  Composite Measure\n",
       "3      H_COMP_5          Communication about Medicines  Composite Measure\n",
       "4      H_COMP_6                  Discharge Information  Composite Measure\n",
       "5      H_COMP_7                        Care Transition  Composite Measure\n",
       "6   H_CLEAN_HSP    Cleanliness of Hospital Environment    Individual Item\n",
       "7   H_QUIET_HSP      Quietness of Hospital Environment    Individual Item\n",
       "8  H_HSP_RATING                Overall Hospital Rating        Global Item\n",
       "9      H_RECMND  Willingness to Recommend the Hospital        Global Item"
      ]
     },
     "execution_count": 3,
     "metadata": {},
     "output_type": "execute_result"
    }
   ],
   "source": [
    "measures = pd.read_csv(\"Desktop/data_tables/measures.csv\")\n",
    "measures"
   ]
  },
  {
   "attachments": {},
   "cell_type": "markdown",
   "id": "55f0d1c5",
   "metadata": {},
   "source": [
    "\n",
    "**<span style = \"color:#ef233c\">   Measure ID (PK):</span>** \n",
    "\n",
    "Unique identifier for each HCAHPS measure (measures are created from specific questions on the HCAHPS survey).\n",
    "\n",
    "**<span style = \"color:#ef233c\"> Measure:</span>**  \n",
    "\n",
    "The measure description.\n",
    "\n",
    "**<span style = \"color:#ef233c\"> Type:</span>**  \n",
    "\n",
    "**\"Composite measures\"** are made up of more than 1 survey question, while **\"Individual Items\"** and **\"Global Items\"** are tied to a single question.\n"
   ]
  },
  {
   "attachments": {},
   "cell_type": "markdown",
   "id": "d7305aa9",
   "metadata": {},
   "source": [
    "---"
   ]
  },
  {
   "attachments": {},
   "cell_type": "markdown",
   "id": "218cd783",
   "metadata": {},
   "source": [
    "### Questions:"
   ]
  },
  {
   "cell_type": "code",
   "execution_count": 19,
   "id": "bfc6fcc8",
   "metadata": {
    "scrolled": true
   },
   "outputs": [
    {
     "data": {
      "text/html": [
       "<div>\n",
       "<style scoped>\n",
       "    .dataframe tbody tr th:only-of-type {\n",
       "        vertical-align: middle;\n",
       "    }\n",
       "\n",
       "    .dataframe tbody tr th {\n",
       "        vertical-align: top;\n",
       "    }\n",
       "\n",
       "    .dataframe thead th {\n",
       "        text-align: right;\n",
       "    }\n",
       "</style>\n",
       "<table border=\"1\" class=\"dataframe\">\n",
       "  <thead>\n",
       "    <tr style=\"text-align: right;\">\n",
       "      <th></th>\n",
       "      <th>Question Num</th>\n",
       "      <th>Measure ID</th>\n",
       "      <th>Question</th>\n",
       "      <th>Bottom-box Answer</th>\n",
       "      <th>Middle-box Answer</th>\n",
       "      <th>Top-box Answer</th>\n",
       "    </tr>\n",
       "  </thead>\n",
       "  <tbody>\n",
       "    <tr>\n",
       "      <th>0</th>\n",
       "      <td>1</td>\n",
       "      <td>H_COMP_1</td>\n",
       "      <td>During this hospital stay, how often did nurses treat you with courtesy and respect?</td>\n",
       "      <td>Sometimes or never</td>\n",
       "      <td>Usually</td>\n",
       "      <td>Always</td>\n",
       "    </tr>\n",
       "    <tr>\n",
       "      <th>1</th>\n",
       "      <td>2</td>\n",
       "      <td>H_COMP_1</td>\n",
       "      <td>During this hospital stay, how often did nurses listen carefully to you?</td>\n",
       "      <td>Sometimes or never</td>\n",
       "      <td>Usually</td>\n",
       "      <td>Always</td>\n",
       "    </tr>\n",
       "    <tr>\n",
       "      <th>2</th>\n",
       "      <td>3</td>\n",
       "      <td>H_COMP_1</td>\n",
       "      <td>During this hospital stay, how often did nurses explain things in a way you could understand?</td>\n",
       "      <td>Sometimes or never</td>\n",
       "      <td>Usually</td>\n",
       "      <td>Always</td>\n",
       "    </tr>\n",
       "    <tr>\n",
       "      <th>3</th>\n",
       "      <td>4</td>\n",
       "      <td>H_COMP_3</td>\n",
       "      <td>During this hospital stay, after you pressed the call button, how often did you get help as soon as you wanted it?</td>\n",
       "      <td>Sometimes or never</td>\n",
       "      <td>Usually</td>\n",
       "      <td>Always</td>\n",
       "    </tr>\n",
       "    <tr>\n",
       "      <th>4</th>\n",
       "      <td>5</td>\n",
       "      <td>H_COMP_2</td>\n",
       "      <td>During this hospital stay, how often did doctors treat you with courtesy and respect?</td>\n",
       "      <td>Sometimes or never</td>\n",
       "      <td>Usually</td>\n",
       "      <td>Always</td>\n",
       "    </tr>\n",
       "    <tr>\n",
       "      <th>5</th>\n",
       "      <td>6</td>\n",
       "      <td>H_COMP_2</td>\n",
       "      <td>During this hospital stay, how often did doctors listen carefully to you?</td>\n",
       "      <td>Sometimes or never</td>\n",
       "      <td>Usually</td>\n",
       "      <td>Always</td>\n",
       "    </tr>\n",
       "    <tr>\n",
       "      <th>6</th>\n",
       "      <td>7</td>\n",
       "      <td>H_COMP_2</td>\n",
       "      <td>During this hospital stay, how often did doctors explain things in a way you could understand?</td>\n",
       "      <td>Sometimes or never</td>\n",
       "      <td>Usually</td>\n",
       "      <td>Always</td>\n",
       "    </tr>\n",
       "    <tr>\n",
       "      <th>7</th>\n",
       "      <td>8</td>\n",
       "      <td>H_CLEAN_HSP</td>\n",
       "      <td>During this hospital stay, how often were your room and bathroom kept clean?</td>\n",
       "      <td>Sometimes or never</td>\n",
       "      <td>Usually</td>\n",
       "      <td>Always</td>\n",
       "    </tr>\n",
       "    <tr>\n",
       "      <th>8</th>\n",
       "      <td>9</td>\n",
       "      <td>H_QUIET_HSP</td>\n",
       "      <td>During this hospital stay, how often was the area around your room quiet at night?</td>\n",
       "      <td>Sometimes or never</td>\n",
       "      <td>Usually</td>\n",
       "      <td>Always</td>\n",
       "    </tr>\n",
       "    <tr>\n",
       "      <th>9</th>\n",
       "      <td>11</td>\n",
       "      <td>H_COMP_3</td>\n",
       "      <td>How often did you get help in getting to the bathroom or in using a bedpan as soon as you wanted?</td>\n",
       "      <td>Sometimes or never</td>\n",
       "      <td>Usually</td>\n",
       "      <td>Always</td>\n",
       "    </tr>\n",
       "    <tr>\n",
       "      <th>10</th>\n",
       "      <td>13</td>\n",
       "      <td>H_COMP_5</td>\n",
       "      <td>Before giving you any new medicine, how often did hospital staff tell you what the medicine was for?</td>\n",
       "      <td>Sometimes or never</td>\n",
       "      <td>Usually</td>\n",
       "      <td>Always</td>\n",
       "    </tr>\n",
       "    <tr>\n",
       "      <th>11</th>\n",
       "      <td>14</td>\n",
       "      <td>H_COMP_5</td>\n",
       "      <td>Before giving you any new medicine, how often did hospital staff describe possible side effects in a way you could understand?</td>\n",
       "      <td>Sometimes or never</td>\n",
       "      <td>Usually</td>\n",
       "      <td>Always</td>\n",
       "    </tr>\n",
       "    <tr>\n",
       "      <th>12</th>\n",
       "      <td>16</td>\n",
       "      <td>H_COMP_6</td>\n",
       "      <td>During this hospital stay, did doctors, nurses or other hospital staff talk with you about whether you would have the help you needed when you left the hospital?</td>\n",
       "      <td>No</td>\n",
       "      <td>NaN</td>\n",
       "      <td>Yes</td>\n",
       "    </tr>\n",
       "    <tr>\n",
       "      <th>13</th>\n",
       "      <td>17</td>\n",
       "      <td>H_COMP_6</td>\n",
       "      <td>During this hospital stay, did you get information in writing about what symptoms or health problems to look out for after you left the hospital?</td>\n",
       "      <td>No</td>\n",
       "      <td>NaN</td>\n",
       "      <td>Yes</td>\n",
       "    </tr>\n",
       "    <tr>\n",
       "      <th>14</th>\n",
       "      <td>18</td>\n",
       "      <td>H_HSP_RATING</td>\n",
       "      <td>Using any number from 0 to 10, where 0 is the worst hospital possible and 10 is the best hospital possible, what number would you use to rate this hospital during your stay?</td>\n",
       "      <td>0 to 6</td>\n",
       "      <td>7 or 8</td>\n",
       "      <td>9 or 10</td>\n",
       "    </tr>\n",
       "    <tr>\n",
       "      <th>15</th>\n",
       "      <td>19</td>\n",
       "      <td>H_RECMND</td>\n",
       "      <td>Would you recommend this hospital to your friends and family?</td>\n",
       "      <td>Probably no or definitely no</td>\n",
       "      <td>Probably yes</td>\n",
       "      <td>Definitely yes</td>\n",
       "    </tr>\n",
       "    <tr>\n",
       "      <th>16</th>\n",
       "      <td>20</td>\n",
       "      <td>H_COMP_7</td>\n",
       "      <td>During this hospital stay, staff took my preferences and those of my family or caregiver into account in deciding what my health care needs would be when I left.</td>\n",
       "      <td>Disagree or strongly disagree</td>\n",
       "      <td>Agree</td>\n",
       "      <td>Strongly Agree</td>\n",
       "    </tr>\n",
       "    <tr>\n",
       "      <th>17</th>\n",
       "      <td>21</td>\n",
       "      <td>H_COMP_7</td>\n",
       "      <td>When I left the hospital, I had a good understanding of the things I was responsible for in managing my health.</td>\n",
       "      <td>Disagree or strongly disagree</td>\n",
       "      <td>Agree</td>\n",
       "      <td>Strongly Agree</td>\n",
       "    </tr>\n",
       "    <tr>\n",
       "      <th>18</th>\n",
       "      <td>22</td>\n",
       "      <td>H_COMP_7</td>\n",
       "      <td>When I left the hospital, I clearly understood the purpose for taking each of my medications.</td>\n",
       "      <td>Disagree or strongly disagree</td>\n",
       "      <td>Agree</td>\n",
       "      <td>Strongly Agree</td>\n",
       "    </tr>\n",
       "  </tbody>\n",
       "</table>\n",
       "</div>"
      ],
      "text/plain": [
       "    Question Num    Measure ID  \\\n",
       "0              1      H_COMP_1   \n",
       "1              2      H_COMP_1   \n",
       "2              3      H_COMP_1   \n",
       "3              4      H_COMP_3   \n",
       "4              5      H_COMP_2   \n",
       "5              6      H_COMP_2   \n",
       "6              7      H_COMP_2   \n",
       "7              8   H_CLEAN_HSP   \n",
       "8              9   H_QUIET_HSP   \n",
       "9             11      H_COMP_3   \n",
       "10            13      H_COMP_5   \n",
       "11            14      H_COMP_5   \n",
       "12            16      H_COMP_6   \n",
       "13            17      H_COMP_6   \n",
       "14            18  H_HSP_RATING   \n",
       "15            19      H_RECMND   \n",
       "16            20      H_COMP_7   \n",
       "17            21      H_COMP_7   \n",
       "18            22      H_COMP_7   \n",
       "\n",
       "                                                                                                                                                                          Question  \\\n",
       "0                                                                                            During this hospital stay, how often did nurses treat you with courtesy and respect?    \n",
       "1                                                                                                        During this hospital stay, how often did nurses listen carefully to you?    \n",
       "2                                                                                   During this hospital stay, how often did nurses explain things in a way you could understand?    \n",
       "3                                                              During this hospital stay, after you pressed the call button, how often did you get help as soon as you wanted it?    \n",
       "4                                                                                           During this hospital stay, how often did doctors treat you with courtesy and respect?    \n",
       "5                                                                                                       During this hospital stay, how often did doctors listen carefully to you?    \n",
       "6                                                                                  During this hospital stay, how often did doctors explain things in a way you could understand?    \n",
       "7                                                                                                    During this hospital stay, how often were your room and bathroom kept clean?    \n",
       "8                                                                                              During this hospital stay, how often was the area around your room quiet at night?    \n",
       "9                                                                               How often did you get help in getting to the bathroom or in using a bedpan as soon as you wanted?    \n",
       "10                                                                           Before giving you any new medicine, how often did hospital staff tell you what the medicine was for?    \n",
       "11                                                 Before giving you any new medicine, how often did hospital staff describe possible side effects in a way you could understand?    \n",
       "12              During this hospital stay, did doctors, nurses or other hospital staff talk with you about whether you would have the help you needed when you left the hospital?    \n",
       "13                              During this hospital stay, did you get information in writing about what symptoms or health problems to look out for after you left the hospital?    \n",
       "14  Using any number from 0 to 10, where 0 is the worst hospital possible and 10 is the best hospital possible, what number would you use to rate this hospital during your stay?    \n",
       "15                                                                                                                   Would you recommend this hospital to your friends and family?   \n",
       "16              During this hospital stay, staff took my preferences and those of my family or caregiver into account in deciding what my health care needs would be when I left.    \n",
       "17                                                                When I left the hospital, I had a good understanding of the things I was responsible for in managing my health.    \n",
       "18                                                                                  When I left the hospital, I clearly understood the purpose for taking each of my medications.    \n",
       "\n",
       "                Bottom-box Answer Middle-box Answer  Top-box Answer  \n",
       "0              Sometimes or never           Usually          Always  \n",
       "1              Sometimes or never           Usually          Always  \n",
       "2              Sometimes or never           Usually          Always  \n",
       "3              Sometimes or never           Usually          Always  \n",
       "4              Sometimes or never           Usually          Always  \n",
       "5              Sometimes or never           Usually          Always  \n",
       "6              Sometimes or never           Usually          Always  \n",
       "7              Sometimes or never           Usually          Always  \n",
       "8              Sometimes or never           Usually          Always  \n",
       "9              Sometimes or never           Usually          Always  \n",
       "10             Sometimes or never           Usually          Always  \n",
       "11             Sometimes or never           Usually          Always  \n",
       "12                             No               NaN             Yes  \n",
       "13                             No               NaN             Yes  \n",
       "14                         0 to 6            7 or 8         9 or 10  \n",
       "15   Probably no or definitely no      Probably yes  Definitely yes  \n",
       "16  Disagree or strongly disagree             Agree  Strongly Agree  \n",
       "17  Disagree or strongly disagree             Agree  Strongly Agree  \n",
       "18  Disagree or strongly disagree             Agree  Strongly Agree  "
      ]
     },
     "execution_count": 19,
     "metadata": {},
     "output_type": "execute_result"
    }
   ],
   "source": [
    "pd.set_option('max_colwidth',None)\n",
    "questions = pd.read_csv(\"Desktop/data_tables/questions.csv\")\n",
    "questions"
   ]
  },
  {
   "attachments": {},
   "cell_type": "markdown",
   "id": "29e51ca3",
   "metadata": {},
   "source": [
    "\n",
    "**<span style = \"color:#ef233c\">   Question Num:</span>** \n",
    "\n",
    "Question number as it appears on the HCAHPS patient survey.\n",
    "\n",
    "**<span style = \"color:#ef233c\"> Measure ID (FK):</span>**  \n",
    "\n",
    "The measure each question relates to.\n",
    "\n",
    "**<span style = \"color:#ef233c\"> Question:</span>**  \n",
    "\n",
    "The question as it appears on the survey.\n",
    "\n",
    "**<span style = \"color:#ef233c\"> Bottom-box Answer:</span>**  \n",
    "\n",
    "The answer(s) to the question considered least positive.\n",
    "\n",
    "**<span style = \"color:#ef233c\"> Middle-box Answer:</span>**  \n",
    "\n",
    "The answer(s) to the question considered intermediate.\n",
    "\n",
    "**<span style = \"color:#ef233c\"> Top-box Answer:</span>**  \n",
    "\n",
    "The answer(s) to the question considered most positive.\n"
   ]
  },
  {
   "attachments": {},
   "cell_type": "markdown",
   "id": "50b24a73",
   "metadata": {},
   "source": [
    "---"
   ]
  },
  {
   "attachments": {},
   "cell_type": "markdown",
   "id": "894a4962",
   "metadata": {},
   "source": [
    "### Responses:"
   ]
  },
  {
   "cell_type": "code",
   "execution_count": 5,
   "id": "b46f1b8f",
   "metadata": {},
   "outputs": [
    {
     "data": {
      "text/html": [
       "<div>\n",
       "<style scoped>\n",
       "    .dataframe tbody tr th:only-of-type {\n",
       "        vertical-align: middle;\n",
       "    }\n",
       "\n",
       "    .dataframe tbody tr th {\n",
       "        vertical-align: top;\n",
       "    }\n",
       "\n",
       "    .dataframe thead th {\n",
       "        text-align: right;\n",
       "    }\n",
       "</style>\n",
       "<table border=\"1\" class=\"dataframe\">\n",
       "  <thead>\n",
       "    <tr style=\"text-align: right;\">\n",
       "      <th></th>\n",
       "      <th>Release Period</th>\n",
       "      <th>State</th>\n",
       "      <th>Facility ID</th>\n",
       "      <th>Completed Surveys</th>\n",
       "      <th>Response Rate (%)</th>\n",
       "    </tr>\n",
       "  </thead>\n",
       "  <tbody>\n",
       "    <tr>\n",
       "      <th>0</th>\n",
       "      <td>07_2015</td>\n",
       "      <td>AL</td>\n",
       "      <td>10001</td>\n",
       "      <td>300 or more</td>\n",
       "      <td>27</td>\n",
       "    </tr>\n",
       "    <tr>\n",
       "      <th>1</th>\n",
       "      <td>07_2015</td>\n",
       "      <td>AL</td>\n",
       "      <td>10005</td>\n",
       "      <td>300 or more</td>\n",
       "      <td>37</td>\n",
       "    </tr>\n",
       "    <tr>\n",
       "      <th>2</th>\n",
       "      <td>07_2015</td>\n",
       "      <td>AL</td>\n",
       "      <td>10006</td>\n",
       "      <td>300 or more</td>\n",
       "      <td>25</td>\n",
       "    </tr>\n",
       "    <tr>\n",
       "      <th>3</th>\n",
       "      <td>07_2015</td>\n",
       "      <td>AL</td>\n",
       "      <td>10007</td>\n",
       "      <td>Between 100 and 299</td>\n",
       "      <td>30</td>\n",
       "    </tr>\n",
       "    <tr>\n",
       "      <th>4</th>\n",
       "      <td>07_2015</td>\n",
       "      <td>AL</td>\n",
       "      <td>10008</td>\n",
       "      <td>Fewer than 100</td>\n",
       "      <td>28</td>\n",
       "    </tr>\n",
       "  </tbody>\n",
       "</table>\n",
       "</div>"
      ],
      "text/plain": [
       "  Release Period State Facility ID    Completed Surveys Response Rate (%)\n",
       "0        07_2015    AL       10001          300 or more                27\n",
       "1        07_2015    AL       10005          300 or more                37\n",
       "2        07_2015    AL       10006          300 or more                25\n",
       "3        07_2015    AL       10007  Between 100 and 299                30\n",
       "4        07_2015    AL       10008       Fewer than 100                28"
      ]
     },
     "execution_count": 5,
     "metadata": {},
     "output_type": "execute_result"
    }
   ],
   "source": [
    "responses = pd.read_csv(\"Desktop/data_tables/responses.csv\")\n",
    "responses.head()"
   ]
  },
  {
   "attachments": {},
   "cell_type": "markdown",
   "id": "be540f1b",
   "metadata": {},
   "source": [
    "\n",
    "**<span style = \"color:#ef233c\">   Release Period (FK):</span>** \n",
    "\n",
    "The HCAHPS report each row relates to.\n",
    "\n",
    "**<span style = \"color:#ef233c\"> State (FK):</span>**  \n",
    "\n",
    "The state each row relates to.\n",
    "\n",
    "**<span style = \"color:#ef233c\"> Facility ID:</span>**  \n",
    "\n",
    "Unique identifier for each hospital that participated in the HCAHPS patient survey.\n",
    "\n",
    "**<span style = \"color:#ef233c\"> Completed Surveys:</span>**  \n",
    "\n",
    "Completed surveys from patients discharges from the facility in the given report.\n",
    "\n",
    "**<span style = \"color:#ef233c\"> Response Rate (%):</span>**  \n",
    "\n",
    "Response rate from surveys submitted to patients (as a percentage - 26 = 26%).\n"
   ]
  },
  {
   "attachments": {},
   "cell_type": "markdown",
   "id": "68ff17f5",
   "metadata": {},
   "source": [
    "---"
   ]
  },
  {
   "attachments": {},
   "cell_type": "markdown",
   "id": "ea11fd8c",
   "metadata": {},
   "source": [
    "### State:"
   ]
  },
  {
   "cell_type": "code",
   "execution_count": 6,
   "id": "0ac56735",
   "metadata": {},
   "outputs": [
    {
     "data": {
      "text/html": [
       "<div>\n",
       "<style scoped>\n",
       "    .dataframe tbody tr th:only-of-type {\n",
       "        vertical-align: middle;\n",
       "    }\n",
       "\n",
       "    .dataframe tbody tr th {\n",
       "        vertical-align: top;\n",
       "    }\n",
       "\n",
       "    .dataframe thead th {\n",
       "        text-align: right;\n",
       "    }\n",
       "</style>\n",
       "<table border=\"1\" class=\"dataframe\">\n",
       "  <thead>\n",
       "    <tr style=\"text-align: right;\">\n",
       "      <th></th>\n",
       "      <th>State</th>\n",
       "      <th>State Name</th>\n",
       "      <th>Region</th>\n",
       "    </tr>\n",
       "  </thead>\n",
       "  <tbody>\n",
       "    <tr>\n",
       "      <th>46</th>\n",
       "      <td>VT</td>\n",
       "      <td>Vermont</td>\n",
       "      <td>New England</td>\n",
       "    </tr>\n",
       "    <tr>\n",
       "      <th>47</th>\n",
       "      <td>WA</td>\n",
       "      <td>Washington</td>\n",
       "      <td>Pacific</td>\n",
       "    </tr>\n",
       "    <tr>\n",
       "      <th>48</th>\n",
       "      <td>WI</td>\n",
       "      <td>Wisconsin</td>\n",
       "      <td>East North Central</td>\n",
       "    </tr>\n",
       "    <tr>\n",
       "      <th>49</th>\n",
       "      <td>WV</td>\n",
       "      <td>West Virginia</td>\n",
       "      <td>South Atlantic</td>\n",
       "    </tr>\n",
       "    <tr>\n",
       "      <th>50</th>\n",
       "      <td>WY</td>\n",
       "      <td>Wyoming</td>\n",
       "      <td>Mountain</td>\n",
       "    </tr>\n",
       "  </tbody>\n",
       "</table>\n",
       "</div>"
      ],
      "text/plain": [
       "   State     State Name              Region\n",
       "46    VT        Vermont         New England\n",
       "47    WA     Washington             Pacific\n",
       "48    WI      Wisconsin  East North Central\n",
       "49    WV  West Virginia      South Atlantic\n",
       "50    WY        Wyoming            Mountain"
      ]
     },
     "execution_count": 6,
     "metadata": {},
     "output_type": "execute_result"
    }
   ],
   "source": [
    "states = pd.read_csv(\"Desktop/data_tables/states.csv\")\n",
    "states.tail()"
   ]
  },
  {
   "attachments": {},
   "cell_type": "markdown",
   "id": "2a534ad3",
   "metadata": {},
   "source": [
    "\n",
    "**<span style = \"color:#ef233c\">   State (PK):</span>** \n",
    "\n",
    "State abbreviation for the 50 US States (plus DC - District of Columbia).\n",
    "\n",
    "**<span style = \"color:#ef233c\"> State Name:</span>**  \n",
    "\n",
    "Full state name.\n",
    "\n",
    "**<span style = \"color:#ef233c\"> Region:</span>**  \n",
    "\n",
    "Groups of states as defined by the United States Census Bureau.\n"
   ]
  },
  {
   "attachments": {},
   "cell_type": "markdown",
   "id": "7a200cf0",
   "metadata": {},
   "source": [
    "---"
   ]
  },
  {
   "attachments": {},
   "cell_type": "markdown",
   "id": "77de88cf",
   "metadata": {},
   "source": [
    "### State results:"
   ]
  },
  {
   "cell_type": "code",
   "execution_count": 7,
   "id": "e2f3d980",
   "metadata": {},
   "outputs": [
    {
     "data": {
      "text/html": [
       "<div>\n",
       "<style scoped>\n",
       "    .dataframe tbody tr th:only-of-type {\n",
       "        vertical-align: middle;\n",
       "    }\n",
       "\n",
       "    .dataframe tbody tr th {\n",
       "        vertical-align: top;\n",
       "    }\n",
       "\n",
       "    .dataframe thead th {\n",
       "        text-align: right;\n",
       "    }\n",
       "</style>\n",
       "<table border=\"1\" class=\"dataframe\">\n",
       "  <thead>\n",
       "    <tr style=\"text-align: right;\">\n",
       "      <th></th>\n",
       "      <th>Release Period</th>\n",
       "      <th>State</th>\n",
       "      <th>Measure ID</th>\n",
       "      <th>Bottom-box Percentage</th>\n",
       "      <th>Middle-box Percentage</th>\n",
       "      <th>Top-box Percentage</th>\n",
       "    </tr>\n",
       "  </thead>\n",
       "  <tbody>\n",
       "    <tr>\n",
       "      <th>0</th>\n",
       "      <td>07_2015</td>\n",
       "      <td>AK</td>\n",
       "      <td>H_CLEAN_HSP</td>\n",
       "      <td>8</td>\n",
       "      <td>22</td>\n",
       "      <td>70</td>\n",
       "    </tr>\n",
       "    <tr>\n",
       "      <th>1</th>\n",
       "      <td>07_2015</td>\n",
       "      <td>AK</td>\n",
       "      <td>H_COMP_1</td>\n",
       "      <td>9</td>\n",
       "      <td>17</td>\n",
       "      <td>74</td>\n",
       "    </tr>\n",
       "    <tr>\n",
       "      <th>2</th>\n",
       "      <td>07_2015</td>\n",
       "      <td>AK</td>\n",
       "      <td>H_COMP_2</td>\n",
       "      <td>10</td>\n",
       "      <td>15</td>\n",
       "      <td>75</td>\n",
       "    </tr>\n",
       "    <tr>\n",
       "      <th>3</th>\n",
       "      <td>07_2015</td>\n",
       "      <td>AK</td>\n",
       "      <td>H_COMP_3</td>\n",
       "      <td>11</td>\n",
       "      <td>21</td>\n",
       "      <td>68</td>\n",
       "    </tr>\n",
       "    <tr>\n",
       "      <th>4</th>\n",
       "      <td>07_2015</td>\n",
       "      <td>AK</td>\n",
       "      <td>H_COMP_5</td>\n",
       "      <td>19</td>\n",
       "      <td>17</td>\n",
       "      <td>64</td>\n",
       "    </tr>\n",
       "  </tbody>\n",
       "</table>\n",
       "</div>"
      ],
      "text/plain": [
       "  Release Period State   Measure ID  Bottom-box Percentage  \\\n",
       "0        07_2015    AK  H_CLEAN_HSP                      8   \n",
       "1        07_2015    AK     H_COMP_1                      9   \n",
       "2        07_2015    AK     H_COMP_2                     10   \n",
       "3        07_2015    AK     H_COMP_3                     11   \n",
       "4        07_2015    AK     H_COMP_5                     19   \n",
       "\n",
       "   Middle-box Percentage  Top-box Percentage  \n",
       "0                     22                  70  \n",
       "1                     17                  74  \n",
       "2                     15                  75  \n",
       "3                     21                  68  \n",
       "4                     17                  64  "
      ]
     },
     "execution_count": 7,
     "metadata": {},
     "output_type": "execute_result"
    }
   ],
   "source": [
    "state_results = pd.read_csv(\"Desktop/data_tables/state_results.csv\")\n",
    "state_results.head()"
   ]
  },
  {
   "attachments": {},
   "cell_type": "markdown",
   "id": "bb1c534d",
   "metadata": {},
   "source": [
    "\n",
    "**<span style = \"color:#ef233c\">   Release Period (FK):</span>** \n",
    "\n",
    "The HCAHPS report each row relates to.\n",
    "\n",
    "**<span style = \"color:#ef233c\"> State (FK)</span>**  \n",
    "\n",
    "The state each row relates to.\n",
    "\n",
    "**<span style = \"color:#ef233c\"> Measure ID (FK):</span>**  \n",
    "\n",
    "The measure each row relates to.\n",
    "\n",
    "**<span style = \"color:#ef233c\"> Bottom-box Percentage:</span>**  \n",
    "\n",
    "The percentage of respondents at the state level who gave a bottom-box response to the measure in the given report (bottom-box, middle-box, and top-box percentages add up to 100 for each row).\n",
    "\n",
    "**<span style = \"color:#ef233c\"> Middle-box Percentage:</span>**  \n",
    "\n",
    "The percentage of respondents at the state level who gave a middle-box response to the measure in the given report (bottom-box, middle-box, and top-box percentages add up to 100 for each row).\n",
    "\n",
    "**<span style = \"color:#ef233c\"> Top-box Percentage:</span>** \n",
    "\n",
    "The percentage of respondents at the state level who gave a top-box response to the measure in the given report (bottom-box, middle-box, and top-box percentages add up to 100 for each row)."
   ]
  },
  {
   "attachments": {},
   "cell_type": "markdown",
   "id": "d006c08e",
   "metadata": {},
   "source": [
    "---"
   ]
  },
  {
   "attachments": {},
   "cell_type": "markdown",
   "id": "c1d76812",
   "metadata": {},
   "source": [
    "### National results:"
   ]
  },
  {
   "cell_type": "code",
   "execution_count": 9,
   "id": "3dc55019",
   "metadata": {
    "scrolled": true
   },
   "outputs": [
    {
     "data": {
      "text/html": [
       "<div>\n",
       "<style scoped>\n",
       "    .dataframe tbody tr th:only-of-type {\n",
       "        vertical-align: middle;\n",
       "    }\n",
       "\n",
       "    .dataframe tbody tr th {\n",
       "        vertical-align: top;\n",
       "    }\n",
       "\n",
       "    .dataframe thead th {\n",
       "        text-align: right;\n",
       "    }\n",
       "</style>\n",
       "<table border=\"1\" class=\"dataframe\">\n",
       "  <thead>\n",
       "    <tr style=\"text-align: right;\">\n",
       "      <th></th>\n",
       "      <th>Release Period</th>\n",
       "      <th>Measure ID</th>\n",
       "      <th>Bottom-box Percentage</th>\n",
       "      <th>Middle-box Percentage</th>\n",
       "      <th>Top-box Percentage</th>\n",
       "    </tr>\n",
       "  </thead>\n",
       "  <tbody>\n",
       "    <tr>\n",
       "      <th>85</th>\n",
       "      <td>07_2023</td>\n",
       "      <td>H_COMP_6</td>\n",
       "      <td>14</td>\n",
       "      <td>0</td>\n",
       "      <td>86</td>\n",
       "    </tr>\n",
       "    <tr>\n",
       "      <th>86</th>\n",
       "      <td>07_2023</td>\n",
       "      <td>H_COMP_7</td>\n",
       "      <td>6</td>\n",
       "      <td>43</td>\n",
       "      <td>51</td>\n",
       "    </tr>\n",
       "    <tr>\n",
       "      <th>87</th>\n",
       "      <td>07_2023</td>\n",
       "      <td>H_HSP_RATING</td>\n",
       "      <td>9</td>\n",
       "      <td>21</td>\n",
       "      <td>70</td>\n",
       "    </tr>\n",
       "    <tr>\n",
       "      <th>88</th>\n",
       "      <td>07_2023</td>\n",
       "      <td>H_QUIET_HSP</td>\n",
       "      <td>10</td>\n",
       "      <td>28</td>\n",
       "      <td>62</td>\n",
       "    </tr>\n",
       "    <tr>\n",
       "      <th>89</th>\n",
       "      <td>07_2023</td>\n",
       "      <td>H_RECMND</td>\n",
       "      <td>6</td>\n",
       "      <td>25</td>\n",
       "      <td>69</td>\n",
       "    </tr>\n",
       "  </tbody>\n",
       "</table>\n",
       "</div>"
      ],
      "text/plain": [
       "   Release Period    Measure ID  Bottom-box Percentage  Middle-box Percentage  \\\n",
       "85        07_2023      H_COMP_6                     14                      0   \n",
       "86        07_2023      H_COMP_7                      6                     43   \n",
       "87        07_2023  H_HSP_RATING                      9                     21   \n",
       "88        07_2023   H_QUIET_HSP                     10                     28   \n",
       "89        07_2023      H_RECMND                      6                     25   \n",
       "\n",
       "    Top-box Percentage  \n",
       "85                  86  \n",
       "86                  51  \n",
       "87                  70  \n",
       "88                  62  \n",
       "89                  69  "
      ]
     },
     "execution_count": 9,
     "metadata": {},
     "output_type": "execute_result"
    }
   ],
   "source": [
    "national_results = pd.read_csv(\"Desktop/data_tables/national_results.csv\")\n",
    "national_results.tail()"
   ]
  },
  {
   "attachments": {},
   "cell_type": "markdown",
   "id": "f146e9bc",
   "metadata": {},
   "source": [
    "\n",
    "**<span style = \"color:#ef233c\">   Release Period (FK):</span>** \n",
    "\n",
    "The HCAHPS report each row relates to.\n",
    "\n",
    "**<span style = \"color:#ef233c\"> Measure ID (FK):</span>**  \n",
    "\n",
    "The measure each row relates to.\n",
    "\n",
    "**<span style = \"color:#ef233c\"> Bottom-box Percentage:</span>**  \n",
    "\n",
    "The percentage of respondents at a national level who gave a bottom-box response to the measure in the given report (bottom-box, middle-box, and top-box percentages add up to 100 for each row).\n",
    "\n",
    "**<span style = \"color:#ef233c\"> Middle-box Percentage:</span>**  \n",
    "\n",
    "The percentage of respondents at a national level who gave a middle-box response to the measure in the given report (bottom-box, middle-box, and top-box percentages add up to 100 for each row).\n",
    "\n",
    "**<span style = \"color:#ef233c\"> Top-box Percentage:</span>**  \n",
    "\n",
    "The percentage of respondents at a national level who gave a top-box response to the measure in the given report (bottom-box, middle-box, and top-box percentages add up to 100 for each row).\n"
   ]
  },
  {
   "attachments": {},
   "cell_type": "markdown",
   "id": "0db889c8",
   "metadata": {},
   "source": [
    "----"
   ]
  },
  {
   "attachments": {},
   "cell_type": "markdown",
   "id": "4a2febcc",
   "metadata": {},
   "source": [
    "## Data Understanding"
   ]
  },
  {
   "cell_type": "code",
   "execution_count": 9,
   "id": "ae7ddc61",
   "metadata": {},
   "outputs": [
    {
     "data": {
      "text/html": [
       "<div>\n",
       "<style scoped>\n",
       "    .dataframe tbody tr th:only-of-type {\n",
       "        vertical-align: middle;\n",
       "    }\n",
       "\n",
       "    .dataframe tbody tr th {\n",
       "        vertical-align: top;\n",
       "    }\n",
       "\n",
       "    .dataframe thead th {\n",
       "        text-align: right;\n",
       "    }\n",
       "</style>\n",
       "<table border=\"1\" class=\"dataframe\">\n",
       "  <thead>\n",
       "    <tr style=\"text-align: right;\">\n",
       "      <th></th>\n",
       "      <th>Question</th>\n",
       "    </tr>\n",
       "  </thead>\n",
       "  <tbody>\n",
       "    <tr>\n",
       "      <th>0</th>\n",
       "      <td>During this hospital stay, how often did nurses treat you with courtesy and respect?</td>\n",
       "    </tr>\n",
       "    <tr>\n",
       "      <th>1</th>\n",
       "      <td>During this hospital stay, how often did nurses listen carefully to you?</td>\n",
       "    </tr>\n",
       "    <tr>\n",
       "      <th>2</th>\n",
       "      <td>During this hospital stay, how often did nurses explain things in a way you could understand?</td>\n",
       "    </tr>\n",
       "    <tr>\n",
       "      <th>3</th>\n",
       "      <td>During this hospital stay, after you pressed the call button, how often did you get help as soon as you wanted it?</td>\n",
       "    </tr>\n",
       "    <tr>\n",
       "      <th>4</th>\n",
       "      <td>During this hospital stay, how often did doctors treat you with courtesy and respect?</td>\n",
       "    </tr>\n",
       "    <tr>\n",
       "      <th>5</th>\n",
       "      <td>During this hospital stay, how often did doctors listen carefully to you?</td>\n",
       "    </tr>\n",
       "    <tr>\n",
       "      <th>6</th>\n",
       "      <td>During this hospital stay, how often did doctors explain things in a way you could understand?</td>\n",
       "    </tr>\n",
       "    <tr>\n",
       "      <th>7</th>\n",
       "      <td>During this hospital stay, how often were your room and bathroom kept clean?</td>\n",
       "    </tr>\n",
       "    <tr>\n",
       "      <th>8</th>\n",
       "      <td>During this hospital stay, how often was the area around your room quiet at night?</td>\n",
       "    </tr>\n",
       "    <tr>\n",
       "      <th>9</th>\n",
       "      <td>How often did you get help in getting to the bathroom or in using a bedpan as soon as you wanted?</td>\n",
       "    </tr>\n",
       "    <tr>\n",
       "      <th>10</th>\n",
       "      <td>Before giving you any new medicine, how often did hospital staff tell you what the medicine was for?</td>\n",
       "    </tr>\n",
       "    <tr>\n",
       "      <th>11</th>\n",
       "      <td>Before giving you any new medicine, how often did hospital staff describe possible side effects in a way you could understand?</td>\n",
       "    </tr>\n",
       "    <tr>\n",
       "      <th>12</th>\n",
       "      <td>During this hospital stay, did doctors, nurses or other hospital staff talk with you about whether you would have the help you needed when you left the hospital?</td>\n",
       "    </tr>\n",
       "    <tr>\n",
       "      <th>13</th>\n",
       "      <td>During this hospital stay, did you get information in writing about what symptoms or health problems to look out for after you left the hospital?</td>\n",
       "    </tr>\n",
       "    <tr>\n",
       "      <th>14</th>\n",
       "      <td>Using any number from 0 to 10, where 0 is the worst hospital possible and 10 is the best hospital possible, what number would you use to rate this hospital during your stay?</td>\n",
       "    </tr>\n",
       "    <tr>\n",
       "      <th>15</th>\n",
       "      <td>Would you recommend this hospital to your friends and family?</td>\n",
       "    </tr>\n",
       "    <tr>\n",
       "      <th>16</th>\n",
       "      <td>During this hospital stay, staff took my preferences and those of my family or caregiver into account in deciding what my health care needs would be when I left.</td>\n",
       "    </tr>\n",
       "    <tr>\n",
       "      <th>17</th>\n",
       "      <td>When I left the hospital, I had a good understanding of the things I was responsible for in managing my health.</td>\n",
       "    </tr>\n",
       "    <tr>\n",
       "      <th>18</th>\n",
       "      <td>When I left the hospital, I clearly understood the purpose for taking each of my medications.</td>\n",
       "    </tr>\n",
       "  </tbody>\n",
       "</table>\n",
       "</div>"
      ],
      "text/plain": [
       "                                                                                                                                                                          Question\n",
       "0                                                                                            During this hospital stay, how often did nurses treat you with courtesy and respect? \n",
       "1                                                                                                        During this hospital stay, how often did nurses listen carefully to you? \n",
       "2                                                                                   During this hospital stay, how often did nurses explain things in a way you could understand? \n",
       "3                                                              During this hospital stay, after you pressed the call button, how often did you get help as soon as you wanted it? \n",
       "4                                                                                           During this hospital stay, how often did doctors treat you with courtesy and respect? \n",
       "5                                                                                                       During this hospital stay, how often did doctors listen carefully to you? \n",
       "6                                                                                  During this hospital stay, how often did doctors explain things in a way you could understand? \n",
       "7                                                                                                    During this hospital stay, how often were your room and bathroom kept clean? \n",
       "8                                                                                              During this hospital stay, how often was the area around your room quiet at night? \n",
       "9                                                                               How often did you get help in getting to the bathroom or in using a bedpan as soon as you wanted? \n",
       "10                                                                           Before giving you any new medicine, how often did hospital staff tell you what the medicine was for? \n",
       "11                                                 Before giving you any new medicine, how often did hospital staff describe possible side effects in a way you could understand? \n",
       "12              During this hospital stay, did doctors, nurses or other hospital staff talk with you about whether you would have the help you needed when you left the hospital? \n",
       "13                              During this hospital stay, did you get information in writing about what symptoms or health problems to look out for after you left the hospital? \n",
       "14  Using any number from 0 to 10, where 0 is the worst hospital possible and 10 is the best hospital possible, what number would you use to rate this hospital during your stay? \n",
       "15                                                                                                                   Would you recommend this hospital to your friends and family?\n",
       "16              During this hospital stay, staff took my preferences and those of my family or caregiver into account in deciding what my health care needs would be when I left. \n",
       "17                                                                When I left the hospital, I had a good understanding of the things I was responsible for in managing my health. \n",
       "18                                                                                  When I left the hospital, I clearly understood the purpose for taking each of my medications. "
      ]
     },
     "execution_count": 9,
     "metadata": {},
     "output_type": "execute_result"
    }
   ],
   "source": [
    "pd.set_option('max_colwidth',None)\n",
    "questions[['Question']]"
   ]
  },
  {
   "attachments": {},
   "cell_type": "markdown",
   "id": "3b4d4625",
   "metadata": {},
   "source": [
    "---"
   ]
  },
  {
   "attachments": {},
   "cell_type": "markdown",
   "id": "11a51df4",
   "metadata": {},
   "source": [
    "#### <span style = \"color:green\"> **The survey's questions are about :** </span>\n",
    "- Patients satisfaction with the medical professionals (nurses-doctors-staff).\n",
    "- Patients satisfaction with patient care.\n",
    "- Patients satisfaction with the environment (quiteness - cleanliness).\n",
    "- Patients'overall rating of the hospital."
   ]
  },
  {
   "attachments": {},
   "cell_type": "markdown",
   "id": "e27c728e",
   "metadata": {},
   "source": [
    "---"
   ]
  },
  {
   "attachments": {},
   "cell_type": "markdown",
   "id": "0e6ec80a",
   "metadata": {},
   "source": [
    "### <span style = \"color:green\">Checking for null values</span>"
   ]
  },
  {
   "cell_type": "code",
   "execution_count": 10,
   "id": "68f22160",
   "metadata": {},
   "outputs": [
    {
     "data": {
      "text/plain": [
       "Release Period    0\n",
       "Start Date        0\n",
       "End Date          0\n",
       "dtype: int64"
      ]
     },
     "execution_count": 10,
     "metadata": {},
     "output_type": "execute_result"
    }
   ],
   "source": [
    "reports.isna().sum()"
   ]
  },
  {
   "cell_type": "code",
   "execution_count": 11,
   "id": "8b1c8a31",
   "metadata": {},
   "outputs": [
    {
     "data": {
      "text/plain": [
       "Measure ID    0\n",
       "Measure       0\n",
       "Type          0\n",
       "dtype: int64"
      ]
     },
     "execution_count": 11,
     "metadata": {},
     "output_type": "execute_result"
    }
   ],
   "source": [
    "measures.isna().sum()"
   ]
  },
  {
   "cell_type": "code",
   "execution_count": 13,
   "id": "995b072c",
   "metadata": {},
   "outputs": [
    {
     "data": {
      "text/plain": [
       "State         0\n",
       "State Name    0\n",
       "Region        0\n",
       "dtype: int64"
      ]
     },
     "execution_count": 13,
     "metadata": {},
     "output_type": "execute_result"
    }
   ],
   "source": [
    "states.isna().sum()"
   ]
  },
  {
   "cell_type": "code",
   "execution_count": 14,
   "id": "d4cabb95",
   "metadata": {},
   "outputs": [
    {
     "data": {
      "text/plain": [
       "Release Period           0\n",
       "State                    0\n",
       "Measure ID               0\n",
       "Bottom-box Percentage    0\n",
       "Middle-box Percentage    0\n",
       "Top-box Percentage       0\n",
       "dtype: int64"
      ]
     },
     "execution_count": 14,
     "metadata": {},
     "output_type": "execute_result"
    }
   ],
   "source": [
    "state_results.isna().sum()"
   ]
  },
  {
   "cell_type": "code",
   "execution_count": 15,
   "id": "1a32faa8",
   "metadata": {},
   "outputs": [
    {
     "data": {
      "text/plain": [
       "Release Period           0\n",
       "Measure ID               0\n",
       "Bottom-box Percentage    0\n",
       "Middle-box Percentage    0\n",
       "Top-box Percentage       0\n",
       "dtype: int64"
      ]
     },
     "execution_count": 15,
     "metadata": {},
     "output_type": "execute_result"
    }
   ],
   "source": [
    "national_results.isna().sum()"
   ]
  },
  {
   "cell_type": "code",
   "execution_count": 19,
   "id": "ad3b72a6",
   "metadata": {},
   "outputs": [
    {
     "data": {
      "text/plain": [
       "Release Period       0\n",
       "State                0\n",
       "Facility ID          0\n",
       "Completed Surveys    0\n",
       "Response Rate (%)    0\n",
       "dtype: int64"
      ]
     },
     "execution_count": 19,
     "metadata": {},
     "output_type": "execute_result"
    }
   ],
   "source": [
    "responses.isna().sum()"
   ]
  },
  {
   "cell_type": "code",
   "execution_count": 20,
   "id": "f5251dc7",
   "metadata": {},
   "outputs": [
    {
     "data": {
      "text/plain": [
       "Question Num         0\n",
       "Measure ID           0\n",
       "Question             0\n",
       "Bottom-box Answer    0\n",
       "Middle-box Answer    2\n",
       "Top-box Answer       0\n",
       "dtype: int64"
      ]
     },
     "execution_count": 20,
     "metadata": {},
     "output_type": "execute_result"
    }
   ],
   "source": [
    "questions.isna().sum()"
   ]
  },
  {
   "attachments": {},
   "cell_type": "markdown",
   "id": "f978a5d8",
   "metadata": {},
   "source": [
    "#### <span style = \"color:yellowgreen\"> the questions dataset has two null values in the middle box answer but since the question of that specific column is a yes or no question the only relevent columns are the Top-box Answer which contains the yes and the Bottom-box answer that contains the No.</span>"
   ]
  },
  {
   "attachments": {},
   "cell_type": "markdown",
   "id": "c738def5",
   "metadata": {},
   "source": [
    "****"
   ]
  },
  {
   "attachments": {},
   "cell_type": "markdown",
   "id": "5bd26583",
   "metadata": {},
   "source": [
    "### <span style = \"color:green\">Checking for duplicates</span>"
   ]
  },
  {
   "cell_type": "code",
   "execution_count": 24,
   "id": "21a6a6c8",
   "metadata": {},
   "outputs": [
    {
     "data": {
      "text/plain": [
       "0"
      ]
     },
     "execution_count": 24,
     "metadata": {},
     "output_type": "execute_result"
    }
   ],
   "source": [
    "reports.duplicated().sum()"
   ]
  },
  {
   "cell_type": "code",
   "execution_count": 25,
   "id": "53f7e0be",
   "metadata": {},
   "outputs": [
    {
     "data": {
      "text/plain": [
       "0"
      ]
     },
     "execution_count": 25,
     "metadata": {},
     "output_type": "execute_result"
    }
   ],
   "source": [
    "measures.duplicated().sum()"
   ]
  },
  {
   "cell_type": "code",
   "execution_count": 26,
   "id": "da1ab659",
   "metadata": {},
   "outputs": [
    {
     "data": {
      "text/plain": [
       "0"
      ]
     },
     "execution_count": 26,
     "metadata": {},
     "output_type": "execute_result"
    }
   ],
   "source": [
    "states.duplicated().sum()"
   ]
  },
  {
   "cell_type": "code",
   "execution_count": 28,
   "id": "301a3bdf",
   "metadata": {},
   "outputs": [
    {
     "data": {
      "text/plain": [
       "0"
      ]
     },
     "execution_count": 28,
     "metadata": {},
     "output_type": "execute_result"
    }
   ],
   "source": [
    "state_results.duplicated().sum()"
   ]
  },
  {
   "cell_type": "code",
   "execution_count": 29,
   "id": "fdd14f63",
   "metadata": {},
   "outputs": [
    {
     "data": {
      "text/plain": [
       "0"
      ]
     },
     "execution_count": 29,
     "metadata": {},
     "output_type": "execute_result"
    }
   ],
   "source": [
    "national_results.duplicated().sum()"
   ]
  },
  {
   "cell_type": "code",
   "execution_count": 30,
   "id": "9e85ca58",
   "metadata": {},
   "outputs": [
    {
     "data": {
      "text/plain": [
       "0"
      ]
     },
     "execution_count": 30,
     "metadata": {},
     "output_type": "execute_result"
    }
   ],
   "source": [
    "responses.duplicated().sum()"
   ]
  },
  {
   "cell_type": "code",
   "execution_count": 31,
   "id": "b673dc58",
   "metadata": {},
   "outputs": [
    {
     "data": {
      "text/plain": [
       "0"
      ]
     },
     "execution_count": 31,
     "metadata": {},
     "output_type": "execute_result"
    }
   ],
   "source": [
    "questions.duplicated().sum()"
   ]
  },
  {
   "attachments": {},
   "cell_type": "markdown",
   "id": "59eb6a4a",
   "metadata": {},
   "source": [
    "### <span style = \"color:red\"> Overall, the data is integral.</span>"
   ]
  },
  {
   "attachments": {},
   "cell_type": "markdown",
   "id": "3365632f",
   "metadata": {},
   "source": [
    "****"
   ]
  },
  {
   "attachments": {},
   "cell_type": "markdown",
   "id": "5afcd994",
   "metadata": {},
   "source": [
    "## Dashboard Conception : Chosing KPIs and Measures"
   ]
  },
  {
   "attachments": {},
   "cell_type": "markdown",
   "id": "158928d5",
   "metadata": {},
   "source": [
    "#### The main purpose of this dashboard is to showcase the hospitals performance from 2015-2023.\n",
    "#### As mentioned above, it will contain overall ratings and recommendation rate of patients, graphs that translate the variation of patient's satisfaction with medical professionals, with patient care and hospital's environment throughout those years.\n",
    "#### And it will display results on national level as well as on state level."
   ]
  },
  {
   "attachments": {},
   "cell_type": "markdown",
   "id": "86231e6d",
   "metadata": {},
   "source": [
    "#### <span style = \"color:blue\"> Overall rating.</span>"
   ]
  },
  {
   "cell_type": "code",
   "execution_count": 22,
   "id": "2be4f928",
   "metadata": {},
   "outputs": [
    {
     "data": {
      "text/html": [
       "<div>\n",
       "<style scoped>\n",
       "    .dataframe tbody tr th:only-of-type {\n",
       "        vertical-align: middle;\n",
       "    }\n",
       "\n",
       "    .dataframe tbody tr th {\n",
       "        vertical-align: top;\n",
       "    }\n",
       "\n",
       "    .dataframe thead th {\n",
       "        text-align: right;\n",
       "    }\n",
       "</style>\n",
       "<table border=\"1\" class=\"dataframe\">\n",
       "  <thead>\n",
       "    <tr style=\"text-align: right;\">\n",
       "      <th></th>\n",
       "      <th>Question Num</th>\n",
       "      <th>Measure ID</th>\n",
       "      <th>Question</th>\n",
       "      <th>Bottom-box Answer</th>\n",
       "      <th>Middle-box Answer</th>\n",
       "      <th>Top-box Answer</th>\n",
       "    </tr>\n",
       "  </thead>\n",
       "  <tbody>\n",
       "    <tr>\n",
       "      <th>14</th>\n",
       "      <td>18</td>\n",
       "      <td>H_HSP_RATING</td>\n",
       "      <td>Using any number from 0 to 10, where 0 is the worst hospital possible and 10 is the best hospital possible, what number would you use to rate this hospital during your stay?</td>\n",
       "      <td>0 to 6</td>\n",
       "      <td>7 or 8</td>\n",
       "      <td>9 or 10</td>\n",
       "    </tr>\n",
       "  </tbody>\n",
       "</table>\n",
       "</div>"
      ],
      "text/plain": [
       "    Question Num    Measure ID  \\\n",
       "14            18  H_HSP_RATING   \n",
       "\n",
       "                                                                                                                                                                          Question  \\\n",
       "14  Using any number from 0 to 10, where 0 is the worst hospital possible and 10 is the best hospital possible, what number would you use to rate this hospital during your stay?    \n",
       "\n",
       "   Bottom-box Answer Middle-box Answer Top-box Answer  \n",
       "14            0 to 6            7 or 8        9 or 10  "
      ]
     },
     "execution_count": 22,
     "metadata": {},
     "output_type": "execute_result"
    }
   ],
   "source": [
    "questions.iloc[[14]]"
   ]
  },
  {
   "attachments": {},
   "cell_type": "markdown",
   "id": "b29868e0",
   "metadata": {},
   "source": [
    "This metric was calculated by multiplying the percentage in the responses dataframe by the rating of each column.\n",
    " **3 was picked for the Bottom-box answer, 7.5 for the Middle-box and 9.5 for the Top-box**. "
   ]
  },
  {
   "attachments": {},
   "cell_type": "markdown",
   "id": "028ee46f",
   "metadata": {},
   "source": [
    "#### <span style = \"color:blue\"> Recommendation rate.</span>"
   ]
  },
  {
   "cell_type": "code",
   "execution_count": 23,
   "id": "3c7dcba7",
   "metadata": {},
   "outputs": [
    {
     "data": {
      "text/html": [
       "<div>\n",
       "<style scoped>\n",
       "    .dataframe tbody tr th:only-of-type {\n",
       "        vertical-align: middle;\n",
       "    }\n",
       "\n",
       "    .dataframe tbody tr th {\n",
       "        vertical-align: top;\n",
       "    }\n",
       "\n",
       "    .dataframe thead th {\n",
       "        text-align: right;\n",
       "    }\n",
       "</style>\n",
       "<table border=\"1\" class=\"dataframe\">\n",
       "  <thead>\n",
       "    <tr style=\"text-align: right;\">\n",
       "      <th></th>\n",
       "      <th>Question Num</th>\n",
       "      <th>Measure ID</th>\n",
       "      <th>Question</th>\n",
       "      <th>Bottom-box Answer</th>\n",
       "      <th>Middle-box Answer</th>\n",
       "      <th>Top-box Answer</th>\n",
       "    </tr>\n",
       "  </thead>\n",
       "  <tbody>\n",
       "    <tr>\n",
       "      <th>15</th>\n",
       "      <td>19</td>\n",
       "      <td>H_RECMND</td>\n",
       "      <td>Would you recommend this hospital to your friends and family?</td>\n",
       "      <td>Probably no or definitely no</td>\n",
       "      <td>Probably yes</td>\n",
       "      <td>Definitely yes</td>\n",
       "    </tr>\n",
       "  </tbody>\n",
       "</table>\n",
       "</div>"
      ],
      "text/plain": [
       "    Question Num Measure ID  \\\n",
       "15            19   H_RECMND   \n",
       "\n",
       "                                                         Question  \\\n",
       "15  Would you recommend this hospital to your friends and family?   \n",
       "\n",
       "               Bottom-box Answer Middle-box Answer  Top-box Answer  \n",
       "15  Probably no or definitely no      Probably yes  Definitely yes  "
      ]
     },
     "execution_count": 23,
     "metadata": {},
     "output_type": "execute_result"
    }
   ],
   "source": [
    "questions.iloc[[15]]"
   ]
  },
  {
   "attachments": {},
   "cell_type": "markdown",
   "id": "45390d3e",
   "metadata": {},
   "source": [
    "This measure was based on the Middle-box and Top-box Answer since the combination of both of them refers to a pretty positive overview."
   ]
  },
  {
   "attachments": {},
   "cell_type": "markdown",
   "id": "1f4f1a39",
   "metadata": {},
   "source": [
    "#### <span style = \"color:blue\">Patient's satisfaction with medical care / patient care / environment.</span>"
   ]
  },
  {
   "attachments": {},
   "cell_type": "markdown",
   "id": "924a4818",
   "metadata": {},
   "source": [
    "The questions related to these have as answers either : \n",
    "\n",
    "- **Disagree or strongly disagree - Agree - Strongly Agree** : in this case we summed the percentage of the Agree and Strongly Agree column.\n",
    "\n",
    "- **Sometimes or never - Usually - Always** : we summed the Usually and Always.\n",
    "\n",
    "- **Yes or No** : our insights were based on the Yes column."
   ]
  },
  {
   "attachments": {},
   "cell_type": "markdown",
   "id": "09e7522e",
   "metadata": {},
   "source": [
    "****"
   ]
  },
  {
   "attachments": {},
   "cell_type": "markdown",
   "id": "5d189326",
   "metadata": {},
   "source": [
    "## Dashboard Realization"
   ]
  },
  {
   "attachments": {},
   "cell_type": "markdown",
   "id": "aab41517",
   "metadata": {},
   "source": [
    "The work was done using the software **Power Bi**, where the type conversion and columns addition using the DAX langage was done and finally the construction of the dashboard."
   ]
  },
  {
   "attachments": {},
   "cell_type": "markdown",
   "id": "c4543d96",
   "metadata": {},
   "source": [
    "****"
   ]
  }
 ],
 "metadata": {
  "kernelspec": {
   "display_name": "Python 3 (ipykernel)",
   "language": "python",
   "name": "python3"
  },
  "language_info": {
   "codemirror_mode": {
    "name": "ipython",
    "version": 3
   },
   "file_extension": ".py",
   "mimetype": "text/x-python",
   "name": "python",
   "nbconvert_exporter": "python",
   "pygments_lexer": "ipython3",
   "version": "3.9.12"
  }
 },
 "nbformat": 4,
 "nbformat_minor": 5
}
